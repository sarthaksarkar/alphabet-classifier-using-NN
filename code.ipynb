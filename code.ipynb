{
 "cells": [
  {
   "cell_type": "code",
   "execution_count": 90,
   "metadata": {},
   "outputs": [
    {
     "name": "stdout",
     "output_type": "stream",
     "text": [
      "(1000, 784)\n",
      "(1000, 10)\n",
      "(350, 784)\n",
      "(350, 10)\n"
     ]
    }
   ],
   "source": [
    "import numpy as np\n",
    "X_train = np.loadtxt('train_X.csv', delimiter = ',')\n",
    "Y_train = np.loadtxt('train_label.csv', delimiter = ',')\n",
    "\n",
    "X_test = np.loadtxt('test_X.csv', delimiter = ',')\n",
    "Y_test = np.loadtxt('test_label.csv', delimiter = ',')\n",
    "print(X_train.shape)\n",
    "print(Y_train.shape)\n",
    "print(X_test.shape)\n",
    "print(Y_test.shape)"
   ]
  },
  {
   "cell_type": "code",
   "execution_count": 91,
   "metadata": {},
   "outputs": [],
   "source": [
    "def tanh(x):\n",
    "    return (np.exp(x)-np.exp(-x))/(np.exp(x)+np.exp(-x))\n",
    "def dertanh(x):\n",
    "    return 1-np.power(np.tanh(x),2)\n",
    "def softmax(x):\n",
    "    expX = np.exp(x)\n",
    "    return expX/np.sum(expX, axis = 1,keepdims=True)"
   ]
  },
  {
   "cell_type": "code",
   "execution_count": 92,
   "metadata": {},
   "outputs": [],
   "source": [
    "def initializeparameters(n0,n1,n2):\n",
    "    W1 = np.random.randn(n1, n0)*0.01\n",
    "    B1 = np.zeros((n1, 1))\n",
    "    \n",
    "    W2 = np.random.randn(n2, n1)*0.01\n",
    "    B2 = np.zeros((n2, 1))\n",
    "    parameters={\n",
    "        'W1' :W1,\n",
    "        'B1' :B1,\n",
    "        'W2' :W2,\n",
    "        'B2' :B2\n",
    "    }\n",
    "    return parameters\n",
    "def forwardpropogation(X,parameters):\n",
    "    W1=parameters['W1']\n",
    "    W2=parameters['W2']\n",
    "    B1=parameters['B1']\n",
    "    B2=parameters['B2']\n",
    "    Z1=(np.dot(W1,X.T)+B1).T\n",
    "    A1=tanh(Z1)\n",
    "    Z2=(np.dot(W2,A1.T)+B2).T\n",
    "    A2=softmax(Z2)\n",
    "    forward_cache={\n",
    "        'Z1' :Z1,\n",
    "        'A1' :A1,\n",
    "        'Z2' :Z2,\n",
    "        'A2' :A2\n",
    "\n",
    "    }\n",
    "    return forward_cache\n",
    "def costfunction(Y,A2):\n",
    "    m=Y.shape[0]\n",
    "    cost = -(1/m)*np.sum(Y*np.log(A2))\n",
    "    return cost\n",
    "def backwardpropagation(X,Y,parameters,forward_cache):\n",
    "    W1=parameters['W1']\n",
    "    W2=parameters['W2']\n",
    "    B1=parameters['B1']\n",
    "    B2=parameters['B2']\n",
    "    Z1=forward_cache['Z1']\n",
    "    A1=forward_cache['A1']\n",
    "    Z2=forward_cache['Z2']\n",
    "    A2=forward_cache['A2']\n",
    "    m=Y.shape[0]\n",
    "    dZ2=A2-Y\n",
    "    dW2=(1/m)*np.dot(dZ2.T,A1)\n",
    "    dB2=(1/m)*np.sum(dZ2,axis=0,keepdims=True).T\n",
    "    dA1=np.dot(dZ2,W2)\n",
    "    dZ1=dA1*dertanh(Z1)\n",
    "    dW1=(1/m)*np.dot(dZ1.T,X)\n",
    "    dB1=(1/m)*np.sum(dZ1,axis=0,keepdims=True).T\n",
    "    gradients={\n",
    "        'dW1' :dW1,\n",
    "        'dB1' :dB1,\n",
    "        'dW2' :dW2,\n",
    "        'dB2' :dB2\n",
    "    }\n",
    "    return gradients\n",
    "def updateparameters(parameters,gradients,learningrate):\n",
    "    W1=parameters['W1']\n",
    "    W2=parameters['W2']\n",
    "    B1=parameters['B1']\n",
    "    B2=parameters['B2']\n",
    "    dW1=gradients['dW1']\n",
    "    dW2=gradients['dW2']\n",
    "    dB1=gradients['dB1']\n",
    "    dB2=gradients['dB2']\n",
    "    W1-=learningrate*dW1\n",
    "    B1-=learningrate*dB1\n",
    "    W2-=learningrate*dW2\n",
    "    B2-=learningrate*dB2\n",
    "    parameters={\n",
    "        'W1' :W1,\n",
    "        'B1' :B1,\n",
    "        'W2' :W2,\n",
    "        'B2' :B2\n",
    "    }\n",
    "    return parameters\n",
    "def model(X,Y,n1,learningrate,iterations):\n",
    "    n0=X.shape[1]\n",
    "    n2=Y.shape[1]\n",
    "    costlist=[]\n",
    "    parameters=initializeparameters(n0,n1,n2)\n",
    "    for i in range(iterations):\n",
    "        forward_cache=forwardpropogation(X,parameters)\n",
    "        cost=costfunction(Y,forward_cache['A2'])\n",
    "        gradients=backwardpropagation(X,Y,parameters,forward_cache)\n",
    "        parameters=updateparameters(parameters,gradients,learningrate)\n",
    "        if(i%(iterations/10)==0):\n",
    "            costlist.append(cost)\n",
    "            print('cost after ',i,'th iterations is ',cost)\n",
    "    return parameters,costlist"
   ]
  },
  {
   "cell_type": "code",
   "execution_count": 93,
   "metadata": {},
   "outputs": [
    {
     "name": "stdout",
     "output_type": "stream",
     "text": [
      "cost after  0 th iterations is  2.3079089673988737\n",
      "cost after  90 th iterations is  0.15019614345366408\n",
      "cost after  180 th iterations is  0.06296696929333889\n",
      "cost after  270 th iterations is  0.0453066521147352\n",
      "cost after  360 th iterations is  0.03612514736846104\n",
      "cost after  450 th iterations is  0.03017478001643724\n",
      "cost after  540 th iterations is  0.025902022524667768\n",
      "cost after  630 th iterations is  0.02236105633179549\n",
      "cost after  720 th iterations is  0.019845346015825386\n",
      "cost after  810 th iterations is  0.017758172566727917\n"
     ]
    }
   ],
   "source": [
    "parameters,costlist=model(X_train,Y_train,100,0.05,900)"
   ]
  },
  {
   "cell_type": "code",
   "execution_count": 94,
   "metadata": {},
   "outputs": [
    {
     "name": "stdout",
     "output_type": "stream",
     "text": [
      "accuracy of the model on training set 99.9 %\n",
      "accuracy of the model on testing set 86.0 %\n"
     ]
    }
   ],
   "source": [
    "def accuracy(X,Y,parameters):\n",
    "    forward_cache=forwardpropogation(X,parameters)\n",
    "    A2=forward_cache['A2']\n",
    "    a=np.argmax(A2,1)\n",
    "    b=np.argmax(Y,1)\n",
    "    correct=0\n",
    "    for i in range(0,a.shape[0]):\n",
    "        if a[i]==b[i]:\n",
    "            correct+=1\n",
    "    return round((correct/a.shape[0])*100,2)\n",
    "print('accuracy of the model on training set',accuracy(X_train,Y_train,parameters),'%')\n",
    "print('accuracy of the model on testing set',accuracy(X_test,Y_test,parameters),'%')"
   ]
  }
 ],
 "metadata": {
  "kernelspec": {
   "display_name": "Python 3",
   "language": "python",
   "name": "python3"
  },
  "language_info": {
   "codemirror_mode": {
    "name": "ipython",
    "version": 3
   },
   "file_extension": ".py",
   "mimetype": "text/x-python",
   "name": "python",
   "nbconvert_exporter": "python",
   "pygments_lexer": "ipython3",
   "version": "3.10.12"
  }
 },
 "nbformat": 4,
 "nbformat_minor": 2
}
